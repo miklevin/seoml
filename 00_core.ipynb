{
 "cells": [
  {
   "cell_type": "code",
   "execution_count": null,
   "metadata": {},
   "outputs": [],
   "source": [
    "# default_exp core\n",
    "%load_ext lab_black"
   ]
  },
  {
   "cell_type": "markdown",
   "metadata": {},
   "source": [
    "# module name here\n",
    "\n",
    "> API details."
   ]
  },
  {
   "cell_type": "code",
   "execution_count": null,
   "metadata": {},
   "outputs": [],
   "source": [
    "# hide\n",
    "from nbdev.showdoc import *"
   ]
  },
  {
   "cell_type": "code",
   "execution_count": null,
   "metadata": {},
   "outputs": [],
   "source": [
    "# export\n",
    "import pickle\n",
    "import logging\n",
    "from pyfiglet import Figlet\n",
    "from argparse import ArgumentParser\n",
    "\n",
    "\n",
    "logging.basicConfig(level=logging.INFO)\n",
    "logger = logging.getLogger(__name__)\n",
    "\n",
    "fig = lambda x: print(Figlet(font=\"standard\", width=200).renderText(x))\n",
    "\n",
    "# export\n",
    "def is_jupyter():\n",
    "    jn = True\n",
    "    try:\n",
    "        get_ipython()\n",
    "    except NameError as err:\n",
    "        logger.error(err)\n",
    "        jn = False\n",
    "    return jn\n",
    "\n",
    "\n",
    "jn = is_jupyter()\n",
    "print(jn)\n",
    "\n",
    "parser = ArgumentParser()\n",
    "add_arg = parser.add_argument\n",
    "\n",
    "if jn:\n",
    "    # simulate command-line input\n",
    "    with open(\"./seoml/args.pkl\", \"rb\") as handle:\n",
    "        args = pickle.load(handle)\n",
    "else:\n",
    "    # get input arguments from command-line\n",
    "    add_arg(\"-f\", \"--file\", required=True)\n",
    "    add_arg(\"-d\", \"--description\", required=False)\n",
    "    args = parser.parse_args()\n",
    "    with open(\"args.pkl\", \"wb\") as handle:\n",
    "        pickle.dump(args, handle)\n",
    "\n",
    "print(args)"
   ]
  },
  {
   "cell_type": "code",
   "execution_count": null,
   "metadata": {},
   "outputs": [],
   "source": [
    "assert is_jupyter() == True"
   ]
  },
  {
   "cell_type": "code",
   "execution_count": null,
   "metadata": {},
   "outputs": [],
   "source": []
  },
  {
   "cell_type": "code",
   "execution_count": null,
   "metadata": {},
   "outputs": [],
   "source": []
  }
 ],
 "metadata": {
  "kernelspec": {
   "display_name": "Python 3",
   "language": "python",
   "name": "python3"
  }
 },
 "nbformat": 4,
 "nbformat_minor": 4
}
